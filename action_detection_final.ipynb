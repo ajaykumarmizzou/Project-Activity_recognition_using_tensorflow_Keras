{
  "nbformat": 4,
  "nbformat_minor": 0,
  "metadata": {
    "colab": {
      "name": "action_detection_final",
      "provenance": [],
      "collapsed_sections": []
    },
    "kernelspec": {
      "display_name": "Python 3",
      "name": "python3"
    },
    "accelerator": "GPU"
  },
  "cells": [
    {
      "cell_type": "code",
      "metadata": {
        "id": "10JxWzZ3pDZN"
      },
      "source": [
        "#import libs\r\n",
        "import cv2\r\n",
        "import os\r\n",
        "import random\r\n",
        "import matplotlib.pylab as plt\r\n",
        "from glob import glob\r\n",
        "import pandas as pd\r\n",
        "import numpy as np\r\n",
        "import pickle\r\n",
        "from keras.callbacks import ModelCheckpoint\r\n",
        "\r\n",
        "import tensorflow as tf\r\n",
        "import keras\r\n",
        "from keras.models import *\r\n",
        "from keras.layers import *\r\n",
        "from keras.layers.convolutional import Convolution2D, MaxPooling2D, ZeroPadding2D\r\n",
        "from keras.preprocessing.image import *\r\n",
        "from keras.callbacks import EarlyStopping\r\n",
        "from keras import regularizers,optimizers\r\n",
        "from keras.callbacks import LearningRateScheduler\r\n",
        "from keras import *\r\n",
        "from keras.applications.inception_v3 import InceptionV3\r\n",
        "import seaborn as sns\r\n",
        "import sklearn\r\n",
        "from sklearn.metrics import *"
      ],
      "execution_count": null,
      "outputs": []
    },
    {
      "cell_type": "code",
      "metadata": {
        "id": "dBBJtW6i8WEB"
      },
      "source": [
        "from google.colab import drive\n",
        "drive.mount('/content/drive')"
      ],
      "execution_count": null,
      "outputs": []
    },
    {
      "cell_type": "code",
      "metadata": {
        "id": "VTtpkLWR8IfM"
      },
      "source": [
        "# TRAIN_RUN\r\n",
        "\r\n",
        "# ../input/walk_or_run_train/train/run\r\n",
        "train_run = glob(os.path.join('/content/drive/MyDrive/action_recognition/walk_run_train/train_run', \"*.png\"))\r\n",
        "\r\n",
        "# TRAIN_WALK\r\n",
        "\r\n",
        "train_walk = glob(os.path.join('/content/drive/MyDrive/action_recognition/walk_run_train/train_walk', \"*.png\"))\r\n",
        "\r\n",
        "# ADD TRAIN_WALK AND TRAIN_RUN INTO A DATAFRAME\r\n",
        "\r\n",
        "train = pd.DataFrame()\r\n",
        "train['file'] = train_run + train_walk\r\n",
        "train.head()"
      ],
      "execution_count": null,
      "outputs": []
    },
    {
      "cell_type": "code",
      "metadata": {
        "id": "tRgdKjcC8PEm"
      },
      "source": [
        "# TEST_RUN\r\n",
        "\r\n",
        "# ../input/walk_or_run_train/train/run\r\n",
        "test_run = glob(os.path.join('/content/drive/MyDrive/action_recognition/walk_run_test/run_test', \"*.png\"))\r\n",
        "\r\n",
        "# TRAIN_WALK\r\n",
        "\r\n",
        "test_walk = glob(os.path.join('/content/drive/MyDrive/action_recognition/walk_run_test/walk_test', \"*.png\"))\r\n",
        "\r\n",
        "# ADD TRAIN_WALK AND TRAIN_RUN INTO A DATAFRAME\r\n",
        "\r\n",
        "test = pd.DataFrame()\r\n",
        "test['file'] = test_run + test_walk\r\n",
        "test.head()"
      ],
      "execution_count": null,
      "outputs": []
    },
    {
      "cell_type": "code",
      "metadata": {
        "id": "fcraPToR9FEc"
      },
      "source": [
        "#TRAIN LABELS\r\n",
        "\r\n",
        "train['label'] = [1 if i in train_run else 0 for i in train['file']]\r\n",
        "train.head()"
      ],
      "execution_count": null,
      "outputs": []
    },
    {
      "cell_type": "code",
      "metadata": {
        "id": "bIaEbVSF9UIs"
      },
      "source": [
        "#TEST LABELS\r\n",
        "\r\n",
        "test['label'] = [1 if i in test_run else 0 for i in test['file']]\r\n",
        "test.head()"
      ],
      "execution_count": null,
      "outputs": []
    },
    {
      "cell_type": "code",
      "metadata": {
        "id": "-HSz3Qjw4yVb"
      },
      "source": [
        "# TRAIN RUN AND WALK IMAGES\r\n",
        "plt.figure(figsize=(16,16))\r\n",
        "plt.imshow(cv2.imread(train_run[1]))\r\n"
      ],
      "execution_count": null,
      "outputs": []
    },
    {
      "cell_type": "code",
      "metadata": {
        "id": "XyVc7DRZvK1Y"
      },
      "source": [
        "def dataug(files, labels, batch_size=10,randomized=True, random_seed=1):\r\n",
        "    randomizer = np.random.RandomState(random_seed)\r\n",
        "    img_batch = []\r\n",
        "    label_batch = []\r\n",
        "    while True:\r\n",
        "        ind = np.arange(len(files))\r\n",
        "        if randomized:\r\n",
        "            randomizer.shuffle(ind)\r\n",
        "        for index in ind:\r\n",
        "            image = cv2.imread(files[index])[:,:,0:3]/255\r\n",
        "            label = labels[index]\r\n",
        "            img_batch.append(image)\r\n",
        "            label_batch.append(label)\r\n",
        "            if len(img_batch) == batch_size:\r\n",
        "                yield np.array(img_batch), np.array(label_batch)\r\n",
        "                img_batch = []\r\n",
        "                label_batch = []\r\n",
        "        \r\n",
        "        if len(img_batch) > 0:\r\n",
        "                yield np.array(img_batch), np.array(label_batch)\r\n",
        "                img_batch = []\r\n",
        "                label_batch = []"
      ],
      "execution_count": null,
      "outputs": []
    },
    {
      "cell_type": "code",
      "metadata": {
        "id": "oUkbZAGqWEYP"
      },
      "source": [
        "transfered=InceptionV3(include_top=False,weights='imagenet',input_tensor=None,input_shape=(None,None,3),pooling='avg',classes=1000)\r\n",
        "model=Sequential()\r\n",
        "model.add((InputLayer(None,None,3)))\r\n",
        "model.add(transfered)\r\n",
        "model.add(Dropout(0.5))\r\n",
        "model.add(Dense(1,activation='sigmoid'))"
      ],
      "execution_count": null,
      "outputs": []
    },
    {
      "cell_type": "code",
      "metadata": {
        "id": "Eks-ngiHbcng"
      },
      "source": [
        "transfered.trainable=False\r\n",
        "model.compile(optimizer='adam',loss='binary_crossentropy',metrics=['acc'])\r\n",
        "batch_size=500\r\n",
        "epochs=50"
      ],
      "execution_count": null,
      "outputs": []
    },
    {
      "cell_type": "code",
      "metadata": {
        "id": "YUoU_WnEnCDw"
      },
      "source": [
        "model.fit(dataug(train['file'],train['label'],batch_size=batch_size,randomized=True,random_seed=1),steps_per_epoch=int(np.ceil(len(train)/batch_size)), epochs=epochs,\r\n",
        "          validation_data=dataug(test['file'],test['label'],batch_size=batch_size,randomized=True),validation_steps=int(np.ceil(len(test)/batch_size)),\r\n",
        "          callbacks=[ModelCheckpoint(filepath='./weights.hdf5',monitor='val_loss',verbose=0,save_best_only=True)],\r\n",
        "          verbose=2)"
      ],
      "execution_count": null,
      "outputs": []
    },
    {
      "cell_type": "code",
      "metadata": {
        "id": "NZPgzi2snSVc"
      },
      "source": [
        "transfered.trainable=True\r\n",
        "model.compile(optimizer='adam',loss='binary_crossentropy',metrics=['acc'])\r\n",
        "batch_size=500\r\n",
        "epochs=5"
      ],
      "execution_count": null,
      "outputs": []
    },
    {
      "cell_type": "code",
      "metadata": {
        "id": "SYiddj6UnatW"
      },
      "source": [
        "model.fit(dataug(train['file'],train['label'],batch_size=batch_size,randomized=True,random_seed=1),steps_per_epoch=int(np.ceil(len(train)/batch_size)), epochs=epochs,\r\n",
        "          validation_data=dataug(test['file'],test['label'],batch_size=batch_size,randomized=True),validation_steps=int(np.ceil(len(test)/batch_size)),\r\n",
        "          callbacks=[ModelCheckpoint(filepath='./weights.hdf5',monitor='val_loss',verbose=0,save_best_only=True)],\r\n",
        "          verbose=2)\r\n",
        "model.load_weights('weights.hdf5')"
      ],
      "execution_count": null,
      "outputs": []
    },
    {
      "cell_type": "code",
      "metadata": {
        "id": "Q0Lt0uEms0P4"
      },
      "source": [
        "model.save('model_final.h5')"
      ],
      "execution_count": null,
      "outputs": []
    }
  ]
}